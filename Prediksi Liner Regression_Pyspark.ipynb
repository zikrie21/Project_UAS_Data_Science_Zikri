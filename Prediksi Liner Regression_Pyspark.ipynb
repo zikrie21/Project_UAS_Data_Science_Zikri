{
  "cells": [
    {
      "cell_type": "code",
      "execution_count": null,
      "metadata": {
        "colab": {
          "base_uri": "https://localhost:8080/"
        },
        "id": "BN14Qc-BMOsq",
        "outputId": "02aa6b17-8ab3-42fe-9941-474705fa4ca2"
      },
      "outputs": [
        {
          "name": "stdout",
          "output_type": "stream",
          "text": [
            "Looking in indexes: https://pypi.org/simple, https://us-python.pkg.dev/colab-wheels/public/simple/\n",
            "Collecting pyspark\n",
            "  Downloading pyspark-3.3.1.tar.gz (281.4 MB)\n",
            "\u001b[2K     \u001b[90m━━━━━━━━━━━━━━━━━━━━━━━━━━━━━━━━━━━━━━━\u001b[0m \u001b[32m281.4/281.4 MB\u001b[0m \u001b[31m5.0 MB/s\u001b[0m eta \u001b[36m0:00:00\u001b[0m\n",
            "\u001b[?25h  Preparing metadata (setup.py) ... \u001b[?25l\u001b[?25hdone\n",
            "Collecting py4j==0.10.9.5\n",
            "  Downloading py4j-0.10.9.5-py2.py3-none-any.whl (199 kB)\n",
            "\u001b[2K     \u001b[90m━━━━━━━━━━━━━━━━━━━━━━━━━━━━━━━━━━━━━━\u001b[0m \u001b[32m199.7/199.7 KB\u001b[0m \u001b[31m21.7 MB/s\u001b[0m eta \u001b[36m0:00:00\u001b[0m\n",
            "\u001b[?25hBuilding wheels for collected packages: pyspark\n",
            "  Building wheel for pyspark (setup.py) ... \u001b[?25l\u001b[?25hdone\n",
            "  Created wheel for pyspark: filename=pyspark-3.3.1-py2.py3-none-any.whl size=281845512 sha256=a628143883286a53b173ff59dc8ba74f74e1e4e5c9ded8f8d959704a854c464a\n",
            "  Stored in directory: /root/.cache/pip/wheels/43/dc/11/ec201cd671da62fa9c5cc77078235e40722170ceba231d7598\n",
            "Successfully built pyspark\n",
            "Installing collected packages: py4j, pyspark\n",
            "Successfully installed py4j-0.10.9.5 pyspark-3.3.1\n"
          ]
        }
      ],
      "source": [
        "!pip install pyspark"
      ]
    },
    {
      "cell_type": "code",
      "execution_count": null,
      "metadata": {
        "colab": {
          "base_uri": "https://localhost:8080/",
          "height": 198
        },
        "id": "gz6XVYIvMalJ",
        "outputId": "ee57cb29-4d34-4244-8957-a6f885dfb0e1"
      },
      "outputs": [
        {
          "data": {
            "text/html": [
              "\n",
              "        <div>\n",
              "            <p><b>SparkContext</b></p>\n",
              "\n",
              "            <p><a href=\"http://cbb35103e8b4:4040\">Spark UI</a></p>\n",
              "\n",
              "            <dl>\n",
              "              <dt>Version</dt>\n",
              "                <dd><code>v3.3.1</code></dd>\n",
              "              <dt>Master</dt>\n",
              "                <dd><code>local[*]</code></dd>\n",
              "              <dt>AppName</dt>\n",
              "                <dd><code>pyspark-shell</code></dd>\n",
              "            </dl>\n",
              "        </div>\n",
              "        "
            ],
            "text/plain": [
              "<SparkContext master=local[*] appName=pyspark-shell>"
            ]
          },
          "execution_count": 2,
          "metadata": {},
          "output_type": "execute_result"
        }
      ],
      "source": [
        "from pyspark.sql import SparkSession\n",
        "\n",
        "spark = SparkSession.builder.getOrCreate()\n",
        "spark = SparkSession.builder\\\n",
        "        .master(\"local\")\\\n",
        "        .appName(\"wine\")\\\n",
        "        .config('spark.ui.port', '4050')\\\n",
        "        .getOrCreate()\n",
        "\n",
        "spark\n",
        "sc = spark.sparkContext\n",
        "sc"
      ]
    },
    {
      "cell_type": "code",
      "execution_count": null,
      "metadata": {
        "colab": {
          "base_uri": "https://localhost:8080/"
        },
        "id": "ZdN_3JhJNUE3",
        "outputId": "3f2a4453-d5f3-4e4a-e8e7-3a26c9c14d24"
      },
      "outputs": [
        {
          "name": "stdout",
          "output_type": "stream",
          "text": [
            "root\n",
            " |-- winery: string (nullable = true)\n",
            " |-- wine: string (nullable = true)\n",
            " |-- year: string (nullable = true)\n",
            " |-- rating: double (nullable = true)\n",
            " |-- num_reviews: integer (nullable = true)\n",
            " |-- country: string (nullable = true)\n",
            " |-- region: string (nullable = true)\n",
            " |-- price: double (nullable = true)\n",
            " |-- type: string (nullable = true)\n",
            " |-- body: string (nullable = true)\n",
            " |-- acidity: string (nullable = true)\n",
            "\n"
          ]
        }
      ],
      "source": [
        "wine = spark.read.csv(\"/content/drive/MyDrive/Colab Notebooks/wines_SPA.csv\", inferSchema=True, header =True)\n",
        "wine.printSchema()"
      ]
    },
    {
      "cell_type": "code",
      "execution_count": null,
      "metadata": {
        "colab": {
          "base_uri": "https://localhost:8080/"
        },
        "id": "qjfEPQRXODap",
        "outputId": "46f74b90-5248-43e2-cbc5-95e4b5ceb612"
      },
      "outputs": [
        {
          "name": "stdout",
          "output_type": "stream",
          "text": [
            "+-------------------+--------------------+----+------+-----------+-------+----------------+----------------+--------------------+----+-------+\n",
            "|             winery|                wine|year|rating|num_reviews|country|          region|           price|                type|body|acidity|\n",
            "+-------------------+--------------------+----+------+-----------+-------+----------------+----------------+--------------------+----+-------+\n",
            "|      Teso La Monja|               Tinto|2013|   4.9|         58| Espana|            Toro|           995.0|            Toro Red|   5|      3|\n",
            "|             Artadi|       Vina El Pison|2018|   4.9|         31| Espana|  Vino de Espana|           313.5|         Tempranillo|   4|      2|\n",
            "|       Vega Sicilia|               Unico|2009|   4.8|       1793| Espana|Ribera del Duero|          324.95|Ribera Del Duero Red|   5|      3|\n",
            "|       Vega Sicilia|               Unico|1999|   4.8|       1705| Espana|Ribera del Duero|          692.96|Ribera Del Duero Red|   5|      3|\n",
            "|       Vega Sicilia|               Unico|1996|   4.8|       1309| Espana|Ribera del Duero|          778.06|Ribera Del Duero Red|   5|      3|\n",
            "|       Vega Sicilia|               Unico|1998|   4.8|       1209| Espana|Ribera del Duero|           490.0|Ribera Del Duero Red|   5|      3|\n",
            "|       Vega Sicilia|               Unico|2010|   4.8|       1201| Espana|Ribera del Duero|           349.0|Ribera Del Duero Red|   5|      3|\n",
            "|       Vega Sicilia|               Unico|1995|   4.8|        926| Espana|Ribera del Duero|          810.89|Ribera Del Duero Red|   5|      3|\n",
            "|       Vega Sicilia|Unico Reserva Esp...|2015|   4.8|        643| Espana|Ribera del Duero|           345.0|Ribera Del Duero Red|   5|      3|\n",
            "|       Vega Sicilia|               Unico|2011|   4.8|        630| Espana|Ribera del Duero|           315.0|Ribera Del Duero Red|   5|      3|\n",
            "|       Vega Sicilia|Unico Reserva Esp...|2016|   4.8|        591| Espana|Ribera del Duero|          514.85|Ribera Del Duero Red|   5|      3|\n",
            "|Pago de Carraovejas|           El Anejon|2016|   4.8|        454| Espana|Ribera del Duero|          105.15|Ribera Del Duero Red|   5|      3|\n",
            "|       Vega Sicilia|Unico Reserva Esp...|2018|   4.8|        438| Espana|Ribera del Duero|           430.0|Ribera Del Duero Red|   5|      3|\n",
            "|       Vega Sicilia|               Unico|1970|   4.8|        417| Espana|Ribera del Duero|           925.0|Ribera Del Duero Red|   5|      3|\n",
            "|        Toro Albala|Don PX Convento S...|1946|   4.8|        398| Espana|Montilla-Moriles|           350.0|       Pedro Ximenez|   5|      1|\n",
            "|Pago de Carraovejas|Cuesta de Las Lie...|2015|   4.8|        372| Espana|Ribera del Duero|          166.18|Ribera Del Duero Red|   5|      3|\n",
            "|       Vega Sicilia|               Unico|1962|   4.8|        295| Espana|Ribera del Duero|          1620.0|Ribera Del Duero Red|   5|      3|\n",
            "|       Vega Sicilia|Unico Reserva Esp...|2019|   4.8|        250| Espana|Ribera del Duero|          431.36|Ribera Del Duero Red|   5|      3|\n",
            "|    Bodegas El Nido|             El Nido|2018|   4.8|        217| Espana|         Jumilla|195.627379550654|                 Red|   4|      3|\n",
            "|       Vega Sicilia|Unico Reserva Esp...|2004|   4.8|        211| Espana|Ribera del Duero|          824.43|Ribera Del Duero Red|   5|      3|\n",
            "+-------------------+--------------------+----+------+-----------+-------+----------------+----------------+--------------------+----+-------+\n",
            "only showing top 20 rows\n",
            "\n"
          ]
        }
      ],
      "source": [
        "wine.show()"
      ]
    },
    {
      "cell_type": "code",
      "execution_count": null,
      "metadata": {
        "id": "LlpMIzPJ_uJF"
      },
      "outputs": [],
      "source": [
        "wine = wine.na.drop()"
      ]
    },
    {
      "cell_type": "code",
      "execution_count": null,
      "metadata": {
        "colab": {
          "base_uri": "https://localhost:8080/"
        },
        "id": "nd3qMTfN0Bwv",
        "outputId": "7873e308-4e9e-4f9f-8ac9-9b387b61a95c"
      },
      "outputs": [
        {
          "name": "stdout",
          "output_type": "stream",
          "text": [
            "Correlation to rating for  rating 1.0\n",
            "Correlation to rating for  num_reviews 0.007113627120754117\n",
            "Correlation to rating for  price 0.5443991729328242\n"
          ]
        }
      ],
      "source": [
        "import six\n",
        "for i in wine.columns:\n",
        "    if not( isinstance(wine.select(i).take(1)[0][0], six.string_types)):\n",
        "        print( \"Correlation to rating for \", i, wine.stat.corr('rating',i))"
      ]
    },
    {
      "cell_type": "code",
      "execution_count": null,
      "metadata": {
        "id": "zqt_Q3eqR-Cf"
      },
      "outputs": [],
      "source": [
        "from pyspark.ml.regression import LinearRegression\n",
        "from pyspark.ml.feature import VectorAssembler"
      ]
    },
    {
      "cell_type": "code",
      "execution_count": null,
      "metadata": {
        "id": "nCBqvoUmwdvX"
      },
      "outputs": [],
      "source": [
        "featureassembler = VectorAssembler(inputCols = [\"num_reviews\",\"price\"], outputCol = \"features\")"
      ]
    },
    {
      "cell_type": "code",
      "execution_count": null,
      "metadata": {
        "colab": {
          "base_uri": "https://localhost:8080/"
        },
        "id": "uy_9C3c1w5mU",
        "outputId": "1f34d76b-b598-40ad-d6e4-16ae83b2ae66"
      },
      "outputs": [
        {
          "name": "stdout",
          "output_type": "stream",
          "text": [
            "+--------------------+\n",
            "|            features|\n",
            "+--------------------+\n",
            "|        [58.0,995.0]|\n",
            "|        [31.0,313.5]|\n",
            "|     [1793.0,324.95]|\n",
            "|     [1705.0,692.96]|\n",
            "|     [1309.0,778.06]|\n",
            "|      [1209.0,490.0]|\n",
            "|      [1201.0,349.0]|\n",
            "|      [926.0,810.89]|\n",
            "|       [643.0,345.0]|\n",
            "|       [630.0,315.0]|\n",
            "|      [591.0,514.85]|\n",
            "|      [454.0,105.15]|\n",
            "|       [438.0,430.0]|\n",
            "|       [417.0,925.0]|\n",
            "|       [398.0,350.0]|\n",
            "|      [372.0,166.18]|\n",
            "|      [295.0,1620.0]|\n",
            "|      [250.0,431.36]|\n",
            "|[217.0,195.627379...|\n",
            "|      [211.0,824.43]|\n",
            "+--------------------+\n",
            "only showing top 20 rows\n",
            "\n"
          ]
        }
      ],
      "source": [
        "output = featureassembler.transform(wine)\n",
        "output.select(\"features\").show()"
      ]
    },
    {
      "cell_type": "code",
      "execution_count": null,
      "metadata": {
        "id": "opFUvNTcxh15"
      },
      "outputs": [],
      "source": [
        "finalised_data = output.select(\"features\", \"rating\")"
      ]
    },
    {
      "cell_type": "code",
      "execution_count": null,
      "metadata": {
        "id": "POxIzzNmyW8Y"
      },
      "outputs": [],
      "source": [
        "train_data, test_data = finalised_data.randomSplit([0.7, 0.3])"
      ]
    },
    {
      "cell_type": "code",
      "execution_count": null,
      "metadata": {
        "colab": {
          "base_uri": "https://localhost:8080/"
        },
        "id": "Eu6xhxnJAtWF",
        "outputId": "0859f197-cfa4-48f7-cdf9-81d2378a57d2"
      },
      "outputs": [
        {
          "name": "stdout",
          "output_type": "stream",
          "text": [
            "Coefficients: [0.0,0.0]\n",
            "Intercept: 4.256094289000018\n"
          ]
        }
      ],
      "source": [
        "lr = LinearRegression(featuresCol = 'features', labelCol='rating', maxIter=15, regParam=0.2, elasticNetParam=0.8)\n",
        "lr_model = lr.fit(train_data)\n",
        "print(\"Coefficients: \" + str(lr_model.coefficients))\n",
        "print(\"Intercept: \" + str(lr_model.intercept))"
      ]
    },
    {
      "cell_type": "code",
      "execution_count": null,
      "metadata": {
        "colab": {
          "base_uri": "https://localhost:8080/"
        },
        "id": "WRL4KFuFBLBF",
        "outputId": "b523216e-c81c-423f-dd62-b3c718581e02"
      },
      "outputs": [
        {
          "name": "stdout",
          "output_type": "stream",
          "text": [
            "RMSE on train data : 0.120456\n",
            "r2 on train data : -0.000000\n"
          ]
        }
      ],
      "source": [
        "trainingSummary = lr_model.summary\n",
        "print(\"RMSE on train data : %f\" % trainingSummary.rootMeanSquaredError)\n",
        "print(\"r2 on train data : %f\" % trainingSummary.r2)"
      ]
    },
    {
      "cell_type": "markdown",
      "metadata": {
        "id": "NFBZW431s9oL"
      },
      "source": []
    },
    {
      "cell_type": "code",
      "execution_count": null,
      "metadata": {
        "colab": {
          "base_uri": "https://localhost:8080/"
        },
        "id": "e1ULTrtSBUIk",
        "outputId": "cd6c2bd1-852b-45ec-f6e9-e2027c14cb8d"
      },
      "outputs": [
        {
          "name": "stdout",
          "output_type": "stream",
          "text": [
            "+------------+------+-----------------+\n",
            "|    features|rating|       prediction|\n",
            "+------------+------+-----------------+\n",
            "|[25.0,46.95]|   4.3|4.256094289000018|\n",
            "|[25.0,48.81]|   4.3|4.256094289000018|\n",
            "| [25.0,68.9]|   4.3|4.256094289000018|\n",
            "|[25.0,130.0]|   4.6|4.256094289000018|\n",
            "|[25.0,181.5]|   4.6|4.256094289000018|\n",
            "+------------+------+-----------------+\n",
            "only showing top 5 rows\n",
            "\n",
            "R Squared (R2) on test data = -0.00132909\n"
          ]
        }
      ],
      "source": [
        "lr_predictions = lr_model.transform(test_data)\n",
        "lr_predictions.select(\"features\",\"rating\",\"prediction\").show(5)\n",
        "\n",
        "from pyspark.ml.evaluation import RegressionEvaluator\n",
        "lr_evaluator = RegressionEvaluator(predictionCol=\"prediction\", \\\n",
        "                 labelCol=\"rating\",metricName=\"r2\")\n",
        "print(\"R Squared (R2) on test data = %g\" % lr_evaluator.evaluate(lr_predictions))"
      ]
    },
    {
      "cell_type": "code",
      "execution_count": null,
      "metadata": {
        "colab": {
          "base_uri": "https://localhost:8080/"
        },
        "id": "LSxknCNjBxdI",
        "outputId": "905f2c9c-f4a0-4b4d-def4-dbff3375ed8a"
      },
      "outputs": [
        {
          "name": "stdout",
          "output_type": "stream",
          "text": [
            "numIterations: 0\n",
            "objectiveHistory: [0.5]\n",
            "+--------------------+\n",
            "|           residuals|\n",
            "+--------------------+\n",
            "|0.043905710999982084|\n",
            "| 0.14390571099998262|\n",
            "|0.043905710999982084|\n",
            "|0.043905710999982084|\n",
            "|0.043905710999982084|\n",
            "|0.043905710999982084|\n",
            "|0.043905710999982084|\n",
            "|0.043905710999982084|\n",
            "| 0.24390571099998226|\n",
            "| 0.14390571099998262|\n",
            "|0.043905710999982084|\n",
            "| 0.14390571099998262|\n",
            "|  0.3439057109999819|\n",
            "| 0.14390571099998262|\n",
            "|  0.3439057109999819|\n",
            "|0.043905710999982084|\n",
            "|0.043905710999982084|\n",
            "|0.043905710999982084|\n",
            "|0.043905710999982084|\n",
            "| 0.14390571099998262|\n",
            "+--------------------+\n",
            "only showing top 20 rows\n",
            "\n"
          ]
        }
      ],
      "source": [
        "print(\"numIterations: %d\" % trainingSummary.totalIterations)\n",
        "print(\"objectiveHistory: %s\" % str(trainingSummary.objectiveHistory))\n",
        "trainingSummary.residuals.show()"
      ]
    },
    {
      "cell_type": "code",
      "execution_count": null,
      "metadata": {
        "id": "qiKwHzXByZga"
      },
      "outputs": [],
      "source": [
        "regressor = LinearRegression(featuresCol = 'features', labelCol = 'rating')\n",
        "regressor = regressor.fit(train_data)"
      ]
    },
    {
      "cell_type": "code",
      "execution_count": null,
      "metadata": {
        "colab": {
          "base_uri": "https://localhost:8080/"
        },
        "id": "b04XJjw_yg-Y",
        "outputId": "ad4749a9-2224-4ab5-c140-3a399ce2e352"
      },
      "outputs": [
        {
          "name": "stdout",
          "output_type": "stream",
          "text": [
            "+-------------+------+------------------+\n",
            "|     features|rating|        prediction|\n",
            "+-------------+------+------------------+\n",
            "| [25.0,46.95]|   4.3| 4.247303559025819|\n",
            "| [25.0,48.81]|   4.3|4.2481005558228535|\n",
            "|  [25.0,68.9]|   4.3|  4.25670897821663|\n",
            "| [25.0,130.0]|   4.6| 4.282889894506313|\n",
            "| [25.0,181.5]|   4.6| 4.304957278940334|\n",
            "|  [26.0,37.9]|   4.3| 4.243431572884294|\n",
            "| [26.0,39.89]|   4.3| 4.244284273758541|\n",
            "|  [26.0,51.5]|   4.5| 4.249259076346482|\n",
            "|  [26.0,68.0]|   4.3| 4.256329209223401|\n",
            "|  [26.0,69.0]|   4.5| 4.256757702125033|\n",
            "| [26.0,97.07]|   4.3| 4.268785497873829|\n",
            "|[26.0,1098.9]|   4.8| 4.698062541515289|\n",
            "|   [27.0,7.9]|   4.4|  4.23058266045359|\n",
            "|  [27.0,11.5]|   4.4|4.2321252348994625|\n",
            "| [27.0,13.45]|   4.5| 4.232960796057644|\n",
            "| [27.0,26.45]|   4.4| 4.238531203778853|\n",
            "| [27.0,31.75]|   4.3|   4.2408022161575|\n",
            "|  [27.0,40.2]|   4.4| 4.244422981176286|\n",
            "|[27.0,2750.0]|   4.6| 5.405553046017256|\n",
            "| [28.0,15.84]|   4.4| 4.233990768710783|\n",
            "+-------------+------+------------------+\n",
            "only showing top 20 rows\n",
            "\n"
          ]
        }
      ],
      "source": [
        "pred_results = regressor.evaluate(test_data)\n",
        "pred_results.predictions.show()"
      ]
    },
    {
      "cell_type": "code",
      "execution_count": null,
      "metadata": {
        "colab": {
          "base_uri": "https://localhost:8080/"
        },
        "id": "rSVJ-k8SKkPv",
        "outputId": "feec1317-315d-420e-f8da-a28f00035a5b"
      },
      "outputs": [
        {
          "name": "stdout",
          "output_type": "stream",
          "text": [
            "Mean Absolute Error (MAE) on test data = 0.0812456\n",
            "Mean Squared Error (MSE) on test data = 0.0125213\n",
            "Root Mean Squared Error (RMSE) on test data = 0.111899\n"
          ]
        }
      ],
      "source": [
        "test_resultt = lr_model.evaluate(test_data)\n",
        "print(\"Mean Absolute Error (MAE) on test data = %g\" % \n",
        "      test_resultt.meanAbsoluteError)\n",
        "print(\"Mean Squared Error (MSE) on test data = %g\" % \n",
        "      test_result.meanSquaredError)\n",
        "print(\"Root Mean Squared Error (RMSE) on test data = %g\" % \n",
        "      test_result.rootMeanSquaredError)"
      ]
    }
  ],
  "metadata": {
    "colab": {
      "provenance": []
    },
    "kernelspec": {
      "display_name": "Python 3",
      "name": "python3"
    },
    "language_info": {
      "name": "python"
    }
  },
  "nbformat": 4,
  "nbformat_minor": 0
}
